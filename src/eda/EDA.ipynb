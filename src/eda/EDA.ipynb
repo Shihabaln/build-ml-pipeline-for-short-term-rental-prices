{
 "cells": [
  {
   "cell_type": "markdown",
   "id": "8764f2b6-81e7-41da-8de7-075a5e06b491",
   "metadata": {},
   "source": [
    "## Notebook for basic EDA"
   ]
  },
  {
   "cell_type": "code",
   "execution_count": null,
   "id": "2c57e371-a615-41f9-920c-9e596e9d5664",
   "metadata": {},
   "outputs": [],
   "source": [
    "import wandb\n",
    "import pandas as pd"
   ]
  },
  {
   "cell_type": "markdown",
   "id": "e0bd94e2-6e3f-4af9-bb0b-669bf5a201c4",
   "metadata": {},
   "source": [
    "### Importing Data "
   ]
  },
  {
   "cell_type": "code",
   "execution_count": null,
   "id": "f54cb2b8-5b87-4145-9de3-222d21ed84e7",
   "metadata": {},
   "outputs": [],
   "source": [
    "run = wandb.init(project=\"nyc_airbnb\", group=\"eda\", save_code=True)\n",
    "local_path = wandb.use_artifact(\"sample.csv:latest\").file()\n",
    "df = pd.read_csv(local_path)"
   ]
  },
  {
   "cell_type": "markdown",
   "id": "d6764af7-0d6f-44d7-9c40-fb40b61420f3",
   "metadata": {},
   "source": [
    "#### Basic Exploratory"
   ]
  },
  {
   "cell_type": "code",
   "execution_count": 2,
   "id": "718d3dc6-5eef-4526-9cfe-ebcd28af0267",
   "metadata": {
    "scrolled": true
   },
   "outputs": [
    {
     "data": {
      "text/html": [
       "<div>\n",
       "<style scoped>\n",
       "    .dataframe tbody tr th:only-of-type {\n",
       "        vertical-align: middle;\n",
       "    }\n",
       "\n",
       "    .dataframe tbody tr th {\n",
       "        vertical-align: top;\n",
       "    }\n",
       "\n",
       "    .dataframe thead th {\n",
       "        text-align: right;\n",
       "    }\n",
       "</style>\n",
       "<table border=\"1\" class=\"dataframe\">\n",
       "  <thead>\n",
       "    <tr style=\"text-align: right;\">\n",
       "      <th></th>\n",
       "      <th>id</th>\n",
       "      <th>name</th>\n",
       "      <th>host_id</th>\n",
       "      <th>host_name</th>\n",
       "      <th>neighbourhood_group</th>\n",
       "      <th>neighbourhood</th>\n",
       "      <th>latitude</th>\n",
       "      <th>longitude</th>\n",
       "      <th>room_type</th>\n",
       "      <th>price</th>\n",
       "      <th>minimum_nights</th>\n",
       "      <th>number_of_reviews</th>\n",
       "      <th>last_review</th>\n",
       "      <th>reviews_per_month</th>\n",
       "      <th>calculated_host_listings_count</th>\n",
       "      <th>availability_365</th>\n",
       "    </tr>\n",
       "  </thead>\n",
       "  <tbody>\n",
       "    <tr>\n",
       "      <th>0</th>\n",
       "      <td>9138664</td>\n",
       "      <td>Private Lg Room 15 min to Manhattan</td>\n",
       "      <td>47594947</td>\n",
       "      <td>Iris</td>\n",
       "      <td>Queens</td>\n",
       "      <td>Sunnyside</td>\n",
       "      <td>40.74271</td>\n",
       "      <td>-73.92493</td>\n",
       "      <td>Private room</td>\n",
       "      <td>74</td>\n",
       "      <td>2</td>\n",
       "      <td>6</td>\n",
       "      <td>2019-05-26</td>\n",
       "      <td>0.13</td>\n",
       "      <td>1</td>\n",
       "      <td>5</td>\n",
       "    </tr>\n",
       "    <tr>\n",
       "      <th>1</th>\n",
       "      <td>31444015</td>\n",
       "      <td>TIME SQUARE CHARMING ONE BED IN HELL'S KITCHEN...</td>\n",
       "      <td>8523790</td>\n",
       "      <td>Johlex</td>\n",
       "      <td>Manhattan</td>\n",
       "      <td>Hell's Kitchen</td>\n",
       "      <td>40.76682</td>\n",
       "      <td>-73.98878</td>\n",
       "      <td>Entire home/apt</td>\n",
       "      <td>170</td>\n",
       "      <td>3</td>\n",
       "      <td>0</td>\n",
       "      <td>NaN</td>\n",
       "      <td>NaN</td>\n",
       "      <td>1</td>\n",
       "      <td>188</td>\n",
       "    </tr>\n",
       "    <tr>\n",
       "      <th>2</th>\n",
       "      <td>8741020</td>\n",
       "      <td>Voted #1 Location Quintessential 1BR W Village...</td>\n",
       "      <td>45854238</td>\n",
       "      <td>John</td>\n",
       "      <td>Manhattan</td>\n",
       "      <td>West Village</td>\n",
       "      <td>40.73631</td>\n",
       "      <td>-74.00611</td>\n",
       "      <td>Entire home/apt</td>\n",
       "      <td>245</td>\n",
       "      <td>3</td>\n",
       "      <td>51</td>\n",
       "      <td>2018-09-19</td>\n",
       "      <td>1.12</td>\n",
       "      <td>1</td>\n",
       "      <td>0</td>\n",
       "    </tr>\n",
       "    <tr>\n",
       "      <th>3</th>\n",
       "      <td>34602077</td>\n",
       "      <td>Spacious 1 bedroom apartment 15min from Manhattan</td>\n",
       "      <td>261055465</td>\n",
       "      <td>Regan</td>\n",
       "      <td>Queens</td>\n",
       "      <td>Astoria</td>\n",
       "      <td>40.76424</td>\n",
       "      <td>-73.92351</td>\n",
       "      <td>Entire home/apt</td>\n",
       "      <td>125</td>\n",
       "      <td>3</td>\n",
       "      <td>1</td>\n",
       "      <td>2019-05-24</td>\n",
       "      <td>0.65</td>\n",
       "      <td>1</td>\n",
       "      <td>13</td>\n",
       "    </tr>\n",
       "    <tr>\n",
       "      <th>4</th>\n",
       "      <td>23203149</td>\n",
       "      <td>Big beautiful bedroom in huge Bushwick apartment</td>\n",
       "      <td>143460</td>\n",
       "      <td>Megan</td>\n",
       "      <td>Brooklyn</td>\n",
       "      <td>Bushwick</td>\n",
       "      <td>40.69839</td>\n",
       "      <td>-73.92044</td>\n",
       "      <td>Private room</td>\n",
       "      <td>65</td>\n",
       "      <td>2</td>\n",
       "      <td>8</td>\n",
       "      <td>2019-06-23</td>\n",
       "      <td>0.52</td>\n",
       "      <td>2</td>\n",
       "      <td>8</td>\n",
       "    </tr>\n",
       "  </tbody>\n",
       "</table>\n",
       "</div>"
      ],
      "text/plain": [
       "         id                                               name    host_id  \\\n",
       "0   9138664                Private Lg Room 15 min to Manhattan   47594947   \n",
       "1  31444015  TIME SQUARE CHARMING ONE BED IN HELL'S KITCHEN...    8523790   \n",
       "2   8741020  Voted #1 Location Quintessential 1BR W Village...   45854238   \n",
       "3  34602077  Spacious 1 bedroom apartment 15min from Manhattan  261055465   \n",
       "4  23203149   Big beautiful bedroom in huge Bushwick apartment     143460   \n",
       "\n",
       "  host_name neighbourhood_group   neighbourhood  latitude  longitude  \\\n",
       "0      Iris              Queens       Sunnyside  40.74271  -73.92493   \n",
       "1    Johlex           Manhattan  Hell's Kitchen  40.76682  -73.98878   \n",
       "2      John           Manhattan    West Village  40.73631  -74.00611   \n",
       "3     Regan              Queens         Astoria  40.76424  -73.92351   \n",
       "4     Megan            Brooklyn        Bushwick  40.69839  -73.92044   \n",
       "\n",
       "         room_type  price  minimum_nights  number_of_reviews last_review  \\\n",
       "0     Private room     74               2                  6  2019-05-26   \n",
       "1  Entire home/apt    170               3                  0         NaN   \n",
       "2  Entire home/apt    245               3                 51  2018-09-19   \n",
       "3  Entire home/apt    125               3                  1  2019-05-24   \n",
       "4     Private room     65               2                  8  2019-06-23   \n",
       "\n",
       "   reviews_per_month  calculated_host_listings_count  availability_365  \n",
       "0               0.13                               1                 5  \n",
       "1                NaN                               1               188  \n",
       "2               1.12                               1                 0  \n",
       "3               0.65                               1                13  \n",
       "4               0.52                               2                 8  "
      ]
     },
     "execution_count": 2,
     "metadata": {},
     "output_type": "execute_result"
    }
   ],
   "source": [
    "df.head()"
   ]
  },
  {
   "cell_type": "markdown",
   "id": "ee90980d-dd5b-4418-964d-78f62c6d9ae4",
   "metadata": {},
   "source": [
    "#### Importing csv file into a pdf report"
   ]
  },
  {
   "cell_type": "code",
   "execution_count": 3,
   "id": "702937b5-6d61-41fa-9277-0d0f6a91b9d2",
   "metadata": {},
   "outputs": [
    {
     "name": "stderr",
     "output_type": "stream",
     "text": [
      "/tmp/ipykernel_27254/664279563.py:1: DeprecationWarning: `import pandas_profiling` is going to be deprecated by April 1st. Please use `import ydata_profiling` instead.\n",
      "  from pandas_profiling import ProfileReport\n"
     ]
    },
    {
     "data": {
      "application/vnd.jupyter.widget-view+json": {
       "model_id": "d03dc28c850f43f5ba8f153415a01c5c",
       "version_major": 2,
       "version_minor": 0
      },
      "text/plain": [
       "Summarize dataset:   0%|          | 0/5 [00:00<?, ?it/s]"
      ]
     },
     "metadata": {},
     "output_type": "display_data"
    },
    {
     "data": {
      "application/vnd.jupyter.widget-view+json": {
       "model_id": "6f78d443ca424ff5983bac506a2e11e7",
       "version_major": 2,
       "version_minor": 0
      },
      "text/plain": [
       "Generate report structure:   0%|          | 0/1 [00:00<?, ?it/s]"
      ]
     },
     "metadata": {},
     "output_type": "display_data"
    },
    {
     "data": {
      "application/vnd.jupyter.widget-view+json": {
       "model_id": "",
       "version_major": 2,
       "version_minor": 0
      },
      "text/plain": [
       "Render widgets:   0%|          | 0/1 [00:00<?, ?it/s]"
      ]
     },
     "metadata": {},
     "output_type": "display_data"
    },
    {
     "name": "stderr",
     "output_type": "stream",
     "text": [
      "IOPub message rate exceeded.\n",
      "The Jupyter server will temporarily stop sending output\n",
      "to the client in order to avoid crashing it.\n",
      "To change this limit, set the config variable\n",
      "`--ServerApp.iopub_msg_rate_limit`.\n",
      "\n",
      "Current values:\n",
      "ServerApp.iopub_msg_rate_limit=1000.0 (msgs/sec)\n",
      "ServerApp.rate_limit_window=3.0 (secs)\n",
      "\n"
     ]
    },
    {
     "data": {
      "text/html": [
       "<div>\n",
       "<style scoped>\n",
       "    .dataframe tbody tr th:only-of-type {\n",
       "        vertical-align: middle;\n",
       "    }\n",
       "\n",
       "    .dataframe tbody tr th {\n",
       "        vertical-align: top;\n",
       "    }\n",
       "\n",
       "    .dataframe thead th {\n",
       "        text-align: right;\n",
       "    }\n",
       "</style>\n",
       "<table border=\"1\" class=\"dataframe\">\n",
       "  <thead>\n",
       "    <tr style=\"text-align: right;\">\n",
       "      <th></th>\n",
       "      <th>id</th>\n",
       "      <th>host_id</th>\n",
       "      <th>latitude</th>\n",
       "      <th>longitude</th>\n",
       "      <th>price</th>\n",
       "      <th>minimum_nights</th>\n",
       "      <th>number_of_reviews</th>\n",
       "      <th>reviews_per_month</th>\n",
       "      <th>calculated_host_listings_count</th>\n",
       "      <th>availability_365</th>\n",
       "      <th>neighbourhood_group</th>\n",
       "      <th>room_type</th>\n",
       "    </tr>\n",
       "  </thead>\n",
       "  <tbody>\n",
       "    <tr>\n",
       "      <th>id</th>\n",
       "      <td>1.000000</td>\n",
       "      <td>0.558145</td>\n",
       "      <td>-0.001193</td>\n",
       "      <td>0.066518</td>\n",
       "      <td>-0.026606</td>\n",
       "      <td>-0.068274</td>\n",
       "      <td>-0.302146</td>\n",
       "      <td>0.368858</td>\n",
       "      <td>0.133321</td>\n",
       "      <td>0.164731</td>\n",
       "      <td>0.059137</td>\n",
       "      <td>0.070785</td>\n",
       "    </tr>\n",
       "    <tr>\n",
       "      <th>host_id</th>\n",
       "      <td>0.558145</td>\n",
       "      <td>1.000000</td>\n",
       "      <td>0.041903</td>\n",
       "      <td>0.106627</td>\n",
       "      <td>-0.073509</td>\n",
       "      <td>-0.138851</td>\n",
       "      <td>-0.117507</td>\n",
       "      <td>0.275662</td>\n",
       "      <td>0.144830</td>\n",
       "      <td>0.172829</td>\n",
       "      <td>0.098353</td>\n",
       "      <td>0.092035</td>\n",
       "    </tr>\n",
       "    <tr>\n",
       "      <th>latitude</th>\n",
       "      <td>-0.001193</td>\n",
       "      <td>0.041903</td>\n",
       "      <td>1.000000</td>\n",
       "      <td>0.040318</td>\n",
       "      <td>0.138701</td>\n",
       "      <td>0.017124</td>\n",
       "      <td>-0.038288</td>\n",
       "      <td>-0.027334</td>\n",
       "      <td>0.002377</td>\n",
       "      <td>-0.009651</td>\n",
       "      <td>0.538339</td>\n",
       "      <td>0.111624</td>\n",
       "    </tr>\n",
       "    <tr>\n",
       "      <th>longitude</th>\n",
       "      <td>0.066518</td>\n",
       "      <td>0.106627</td>\n",
       "      <td>0.040318</td>\n",
       "      <td>1.000000</td>\n",
       "      <td>-0.436764</td>\n",
       "      <td>-0.121498</td>\n",
       "      <td>0.080778</td>\n",
       "      <td>0.117056</td>\n",
       "      <td>0.062861</td>\n",
       "      <td>0.061113</td>\n",
       "      <td>0.648797</td>\n",
       "      <td>0.153825</td>\n",
       "    </tr>\n",
       "    <tr>\n",
       "      <th>price</th>\n",
       "      <td>-0.026606</td>\n",
       "      <td>-0.073509</td>\n",
       "      <td>0.138701</td>\n",
       "      <td>-0.436764</td>\n",
       "      <td>1.000000</td>\n",
       "      <td>0.103245</td>\n",
       "      <td>-0.050723</td>\n",
       "      <td>-0.018707</td>\n",
       "      <td>-0.101398</td>\n",
       "      <td>0.091799</td>\n",
       "      <td>0.010046</td>\n",
       "      <td>0.022859</td>\n",
       "    </tr>\n",
       "    <tr>\n",
       "      <th>minimum_nights</th>\n",
       "      <td>-0.068274</td>\n",
       "      <td>-0.138851</td>\n",
       "      <td>0.017124</td>\n",
       "      <td>-0.121498</td>\n",
       "      <td>0.103245</td>\n",
       "      <td>1.000000</td>\n",
       "      <td>-0.159285</td>\n",
       "      <td>-0.288277</td>\n",
       "      <td>0.063765</td>\n",
       "      <td>0.081264</td>\n",
       "      <td>0.000000</td>\n",
       "      <td>0.020005</td>\n",
       "    </tr>\n",
       "    <tr>\n",
       "      <th>number_of_reviews</th>\n",
       "      <td>-0.302146</td>\n",
       "      <td>-0.117507</td>\n",
       "      <td>-0.038288</td>\n",
       "      <td>0.080778</td>\n",
       "      <td>-0.050723</td>\n",
       "      <td>-0.159285</td>\n",
       "      <td>1.000000</td>\n",
       "      <td>0.701699</td>\n",
       "      <td>0.057464</td>\n",
       "      <td>0.237886</td>\n",
       "      <td>0.026979</td>\n",
       "      <td>0.000000</td>\n",
       "    </tr>\n",
       "    <tr>\n",
       "      <th>reviews_per_month</th>\n",
       "      <td>0.368858</td>\n",
       "      <td>0.275662</td>\n",
       "      <td>-0.027334</td>\n",
       "      <td>0.117056</td>\n",
       "      <td>-0.018707</td>\n",
       "      <td>-0.288277</td>\n",
       "      <td>0.701699</td>\n",
       "      <td>1.000000</td>\n",
       "      <td>0.144355</td>\n",
       "      <td>0.387509</td>\n",
       "      <td>0.065914</td>\n",
       "      <td>0.017332</td>\n",
       "    </tr>\n",
       "    <tr>\n",
       "      <th>calculated_host_listings_count</th>\n",
       "      <td>0.133321</td>\n",
       "      <td>0.144830</td>\n",
       "      <td>0.002377</td>\n",
       "      <td>0.062861</td>\n",
       "      <td>-0.101398</td>\n",
       "      <td>0.063765</td>\n",
       "      <td>0.057464</td>\n",
       "      <td>0.144355</td>\n",
       "      <td>1.000000</td>\n",
       "      <td>0.407154</td>\n",
       "      <td>0.086084</td>\n",
       "      <td>0.095414</td>\n",
       "    </tr>\n",
       "    <tr>\n",
       "      <th>availability_365</th>\n",
       "      <td>0.164731</td>\n",
       "      <td>0.172829</td>\n",
       "      <td>-0.009651</td>\n",
       "      <td>0.061113</td>\n",
       "      <td>0.091799</td>\n",
       "      <td>0.081264</td>\n",
       "      <td>0.237886</td>\n",
       "      <td>0.387509</td>\n",
       "      <td>0.407154</td>\n",
       "      <td>1.000000</td>\n",
       "      <td>0.075558</td>\n",
       "      <td>0.088758</td>\n",
       "    </tr>\n",
       "    <tr>\n",
       "      <th>neighbourhood_group</th>\n",
       "      <td>0.059137</td>\n",
       "      <td>0.098353</td>\n",
       "      <td>0.538339</td>\n",
       "      <td>0.648797</td>\n",
       "      <td>0.010046</td>\n",
       "      <td>0.000000</td>\n",
       "      <td>0.026979</td>\n",
       "      <td>0.065914</td>\n",
       "      <td>0.086084</td>\n",
       "      <td>0.075558</td>\n",
       "      <td>1.000000</td>\n",
       "      <td>0.124914</td>\n",
       "    </tr>\n",
       "    <tr>\n",
       "      <th>room_type</th>\n",
       "      <td>0.070785</td>\n",
       "      <td>0.092035</td>\n",
       "      <td>0.111624</td>\n",
       "      <td>0.153825</td>\n",
       "      <td>0.022859</td>\n",
       "      <td>0.020005</td>\n",
       "      <td>0.000000</td>\n",
       "      <td>0.017332</td>\n",
       "      <td>0.095414</td>\n",
       "      <td>0.088758</td>\n",
       "      <td>0.124914</td>\n",
       "      <td>1.000000</td>\n",
       "    </tr>\n",
       "  </tbody>\n",
       "</table>\n",
       "</div>"
      ],
      "text/plain": [
       "                                      id   host_id  latitude  longitude  \\\n",
       "id                              1.000000  0.558145 -0.001193   0.066518   \n",
       "host_id                         0.558145  1.000000  0.041903   0.106627   \n",
       "latitude                       -0.001193  0.041903  1.000000   0.040318   \n",
       "longitude                       0.066518  0.106627  0.040318   1.000000   \n",
       "price                          -0.026606 -0.073509  0.138701  -0.436764   \n",
       "minimum_nights                 -0.068274 -0.138851  0.017124  -0.121498   \n",
       "number_of_reviews              -0.302146 -0.117507 -0.038288   0.080778   \n",
       "reviews_per_month               0.368858  0.275662 -0.027334   0.117056   \n",
       "calculated_host_listings_count  0.133321  0.144830  0.002377   0.062861   \n",
       "availability_365                0.164731  0.172829 -0.009651   0.061113   \n",
       "neighbourhood_group             0.059137  0.098353  0.538339   0.648797   \n",
       "room_type                       0.070785  0.092035  0.111624   0.153825   \n",
       "\n",
       "                                   price  minimum_nights  number_of_reviews  \\\n",
       "id                             -0.026606       -0.068274          -0.302146   \n",
       "host_id                        -0.073509       -0.138851          -0.117507   \n",
       "latitude                        0.138701        0.017124          -0.038288   \n",
       "longitude                      -0.436764       -0.121498           0.080778   \n",
       "price                           1.000000        0.103245          -0.050723   \n",
       "minimum_nights                  0.103245        1.000000          -0.159285   \n",
       "number_of_reviews              -0.050723       -0.159285           1.000000   \n",
       "reviews_per_month              -0.018707       -0.288277           0.701699   \n",
       "calculated_host_listings_count -0.101398        0.063765           0.057464   \n",
       "availability_365                0.091799        0.081264           0.237886   \n",
       "neighbourhood_group             0.010046        0.000000           0.026979   \n",
       "room_type                       0.022859        0.020005           0.000000   \n",
       "\n",
       "                                reviews_per_month  \\\n",
       "id                                       0.368858   \n",
       "host_id                                  0.275662   \n",
       "latitude                                -0.027334   \n",
       "longitude                                0.117056   \n",
       "price                                   -0.018707   \n",
       "minimum_nights                          -0.288277   \n",
       "number_of_reviews                        0.701699   \n",
       "reviews_per_month                        1.000000   \n",
       "calculated_host_listings_count           0.144355   \n",
       "availability_365                         0.387509   \n",
       "neighbourhood_group                      0.065914   \n",
       "room_type                                0.017332   \n",
       "\n",
       "                                calculated_host_listings_count  \\\n",
       "id                                                    0.133321   \n",
       "host_id                                               0.144830   \n",
       "latitude                                              0.002377   \n",
       "longitude                                             0.062861   \n",
       "price                                                -0.101398   \n",
       "minimum_nights                                        0.063765   \n",
       "number_of_reviews                                     0.057464   \n",
       "reviews_per_month                                     0.144355   \n",
       "calculated_host_listings_count                        1.000000   \n",
       "availability_365                                      0.407154   \n",
       "neighbourhood_group                                   0.086084   \n",
       "room_type                                             0.095414   \n",
       "\n",
       "                                availability_365  neighbourhood_group  \\\n",
       "id                                      0.164731             0.059137   \n",
       "host_id                                 0.172829             0.098353   \n",
       "latitude                               -0.009651             0.538339   \n",
       "longitude                               0.061113             0.648797   \n",
       "price                                   0.091799             0.010046   \n",
       "minimum_nights                          0.081264             0.000000   \n",
       "number_of_reviews                       0.237886             0.026979   \n",
       "reviews_per_month                       0.387509             0.065914   \n",
       "calculated_host_listings_count          0.407154             0.086084   \n",
       "availability_365                        1.000000             0.075558   \n",
       "neighbourhood_group                     0.075558             1.000000   \n",
       "room_type                               0.088758             0.124914   \n",
       "\n",
       "                                room_type  \n",
       "id                               0.070785  \n",
       "host_id                          0.092035  \n",
       "latitude                         0.111624  \n",
       "longitude                        0.153825  \n",
       "price                            0.022859  \n",
       "minimum_nights                   0.020005  \n",
       "number_of_reviews                0.000000  \n",
       "reviews_per_month                0.017332  \n",
       "calculated_host_listings_count   0.095414  \n",
       "availability_365                 0.088758  \n",
       "neighbourhood_group              0.124914  \n",
       "room_type                        1.000000  "
      ]
     },
     "metadata": {},
     "output_type": "display_data"
    },
    {
     "data": {
      "application/vnd.jupyter.widget-view+json": {
       "model_id": "902a232831654a919134644e37e39c21",
       "version_major": 2,
       "version_minor": 0
      },
      "text/plain": [
       "VBox(children=(Tab(children=(Tab(children=(GridBox(children=(VBox(children=(GridspecLayout(children=(HTML(valu…"
      ]
     },
     "metadata": {},
     "output_type": "display_data"
    }
   ],
   "source": [
    "from pandas_profiling import ProfileReport\n",
    "\n",
    "profile = ProfileReport(df)\n",
    "profile.to_widgets()"
   ]
  },
  {
   "cell_type": "markdown",
   "id": "239555f4-990e-44cf-b077-5ef4fa38807e",
   "metadata": {},
   "source": [
    "#### Basic cleaning "
   ]
  },
  {
   "cell_type": "code",
   "execution_count": 4,
   "id": "1b8474ba-2c72-4222-9dff-f6144d41c5ec",
   "metadata": {},
   "outputs": [],
   "source": [
    "# Drop outliers\n",
    "min_price = 10\n",
    "max_price = 350\n",
    "idx = df['price'].between(min_price, max_price)\n",
    "df = df[idx].copy()\n",
    "# Convert last_review to datetime\n",
    "df['last_review'] = pd.to_datetime(df['last_review'])"
   ]
  },
  {
   "cell_type": "code",
   "execution_count": 5,
   "id": "9c13ccce-d4b6-4e7d-9988-6140021ffac2",
   "metadata": {},
   "outputs": [
    {
     "name": "stdout",
     "output_type": "stream",
     "text": [
      "<class 'pandas.core.frame.DataFrame'>\n",
      "Index: 19001 entries, 0 to 19999\n",
      "Data columns (total 16 columns):\n",
      " #   Column                          Non-Null Count  Dtype         \n",
      "---  ------                          --------------  -----         \n",
      " 0   id                              19001 non-null  int64         \n",
      " 1   name                            18994 non-null  object        \n",
      " 2   host_id                         19001 non-null  int64         \n",
      " 3   host_name                       18993 non-null  object        \n",
      " 4   neighbourhood_group             19001 non-null  object        \n",
      " 5   neighbourhood                   19001 non-null  object        \n",
      " 6   latitude                        19001 non-null  float64       \n",
      " 7   longitude                       19001 non-null  float64       \n",
      " 8   room_type                       19001 non-null  object        \n",
      " 9   price                           19001 non-null  int64         \n",
      " 10  minimum_nights                  19001 non-null  int64         \n",
      " 11  number_of_reviews               19001 non-null  int64         \n",
      " 12  last_review                     15243 non-null  datetime64[ns]\n",
      " 13  reviews_per_month               15243 non-null  float64       \n",
      " 14  calculated_host_listings_count  19001 non-null  int64         \n",
      " 15  availability_365                19001 non-null  int64         \n",
      "dtypes: datetime64[ns](1), float64(3), int64(7), object(5)\n",
      "memory usage: 2.5+ MB\n"
     ]
    }
   ],
   "source": [
    "df.info()"
   ]
  },
  {
   "cell_type": "code",
   "execution_count": 6,
   "id": "5740fb59-4fc5-4efc-a723-adb9d0de51ed",
   "metadata": {},
   "outputs": [
    {
     "data": {
      "text/html": [
       "Waiting for W&B process to finish... <strong style=\"color:green\">(success).</strong>"
      ],
      "text/plain": [
       "<IPython.core.display.HTML object>"
      ]
     },
     "metadata": {},
     "output_type": "display_data"
    },
    {
     "data": {
      "text/html": [
       " View run <strong style=\"color:#cdcd00\">autumn-disco-3</strong> at: <a href='https://wandb.ai/shihab-alnassri/nyc_airbnb/runs/bajix6vp' target=\"_blank\">https://wandb.ai/shihab-alnassri/nyc_airbnb/runs/bajix6vp</a><br/> View job at <a href='https://wandb.ai/shihab-alnassri/nyc_airbnb/jobs/QXJ0aWZhY3RDb2xsZWN0aW9uOjkxMjg1NjQ2/version_details/v0' target=\"_blank\">https://wandb.ai/shihab-alnassri/nyc_airbnb/jobs/QXJ0aWZhY3RDb2xsZWN0aW9uOjkxMjg1NjQ2/version_details/v0</a><br/>Synced 7 W&B file(s), 0 media file(s), 3 artifact file(s) and 1 other file(s)"
      ],
      "text/plain": [
       "<IPython.core.display.HTML object>"
      ]
     },
     "metadata": {},
     "output_type": "display_data"
    },
    {
     "data": {
      "text/html": [
       "Find logs at: <code>./wandb/run-20230818_153102-bajix6vp/logs</code>"
      ],
      "text/plain": [
       "<IPython.core.display.HTML object>"
      ]
     },
     "metadata": {},
     "output_type": "display_data"
    }
   ],
   "source": [
    "run.finish()"
   ]
  },
  {
   "cell_type": "code",
   "execution_count": null,
   "id": "9621dd5d-4d9f-443a-974d-24cd89ea58bc",
   "metadata": {},
   "outputs": [],
   "source": []
  },
  {
   "cell_type": "code",
   "execution_count": null,
   "id": "1534d0a7-4a61-46fc-a19a-04edc63675a6",
   "metadata": {},
   "outputs": [],
   "source": []
  }
 ],
 "metadata": {
  "kernelspec": {
   "display_name": "Python 3 (ipykernel)",
   "language": "python",
   "name": "python3"
  },
  "language_info": {
   "codemirror_mode": {
    "name": "ipython",
    "version": 3
   },
   "file_extension": ".py",
   "mimetype": "text/x-python",
   "name": "python",
   "nbconvert_exporter": "python",
   "pygments_lexer": "ipython3",
   "version": "3.11.4"
  }
 },
 "nbformat": 4,
 "nbformat_minor": 5
}
